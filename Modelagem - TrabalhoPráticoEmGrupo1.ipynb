{
  "nbformat": 4,
  "nbformat_minor": 0,
  "metadata": {
    "colab": {
      "provenance": []
    },
    "kernelspec": {
      "name": "python3",
      "display_name": "Python 3"
    },
    "language_info": {
      "name": "python"
    }
  },
  "cells": [
    {
      "cell_type": "markdown",
      "source": [
        "Grupo:\n",
        "\n",
        "*   Luana Tiemann Halicki Cordeiro\n",
        "*   Alexandre Cicero Araujo Beiruth\n",
        "*   Leandro Cardoso Vieira\n",
        "*   João Vitor Gabardo da Cunha"
      ],
      "metadata": {
        "id": "5uijZWAdTTbg"
      }
    },
    {
      "cell_type": "markdown",
      "source": [
        "1) Limites e tabelas: Considerando a função a seguir: $$\\ f(x) = \\frac{x^2-4}{x-2}$$  Crie uma tabela que indique o valor do limite quando 𝑥 tende a 3 pela esquerda e pela direita. Não se esqueça de traçar o gráfico e plotar os pontos que usou para a criação da tabela. Todas as soluções devem apresentar o passo a passo algébrico, escrito em látex, em uma célula do Google Colab.\n"
      ],
      "metadata": {
        "id": "cQTnsR1py5NI"
      }
    },
    {
      "cell_type": "code",
      "source": [
        "from sympy import symbols, Eq, expand, simplify, limit, init_printing\n",
        "from IPython.display import display, Math\n",
        "import matplotlib.pyplot as plt\n",
        "import numpy as np\n",
        "\n",
        "#Calculos\n",
        "\n",
        "# Ative a impressão de qualidade matemática\n",
        "init_printing()\n",
        "# Definindo as variáveis simbólicas\n",
        "x, h = symbols('x h')\n",
        "# Definindo a função f(x)\n",
        "fx = (x**2 - 4) / (x - 2)\n",
        "# Escolha um ponto próximo a x = 3, digamos x = 3 + h\n",
        "xProximo = 3 + h\n",
        "# Calcule f(3 + h)\n",
        "calcXProx = fx.subs(x, xProximo)\n",
        "# Expanda a expressão\n",
        "expansao = expand(calcXProx)\n",
        "# Simplifique a expressão\n",
        "simplificacao = simplify(expansao)\n",
        "# Encontre o limite quando h tende a 0\n",
        "limH = limit(simplificacao, h, 0)\n",
        "\n",
        "# Encontre o limite quando x tende a 3 diretamente usando a função limit do SymPy\n",
        "limX = limit(fx, x, 3)\n",
        "lim1 = limit(fx,x,2)\n",
        "lim2 = limit(fx,x,2.6)\n",
        "lim3 = limit(fx,x,2.9)\n",
        "lim4 = limit(fx,x,2.99)\n",
        "lim5 = limit(fx,x,2.999)\n",
        "lim6 = limit(fx,x,4)\n",
        "lim7 = limit(fx,x,3.4)\n",
        "lim8 = limit(fx,x,3.1)\n",
        "lim9 = limit(fx,x,3.01)\n",
        "lim10 = limit(fx,x,3.001)\n",
        "\n",
        "# Mostrar resultados intermediários e os limites com qualidade matemática\n",
        "display(Math(\"f(3 + h) = \" + f\"{calcXProx}\"))\n",
        "display(Math(\"Expandido: f(3 + h) = \" + f\"{expansao}\"))\n",
        "display(Math(\"Simplificado: f(3 + h) = \" + f\"{simplificacao}\"))\n",
        "display(Math(r\"\\lim_{h \\to 0} f(3 + h) = \" + f\"{limH}\"))\n",
        "display(Math(r\"\\lim_{x \\to 3} f(x) = \" + f\"{limX}\"))\n",
        "\n",
        "\n",
        "#Tabela 1\n",
        "coluna = ['2', '2.6', '2.9', '2.99', '2.999']\n",
        "linha = ['f(x)']\n",
        "dados = [[f'{lim1:.3f}',f'{lim2:.3f}',f'{lim3:.3f}',f'{lim4:.3f}',f'{lim5:.3f}']]\n",
        "plt.figure(figsize = (14,3),linewidth=2,\n",
        "           tight_layout={'pad':1})\n",
        "table = plt.table(cellText=dados,\n",
        "                  cellLoc='center',\n",
        "                  rowLabels=linha,\n",
        "                  rowLoc='center',\n",
        "                  colLabels=coluna,\n",
        "                  loc='center')\n",
        "table.scale(1, 2)\n",
        "table.set_fontsize(12)\n",
        "# Hide axes\n",
        "ax = plt.gca()\n",
        "ax.get_xaxis().set_visible(False)\n",
        "ax.get_yaxis().set_visible(False)\n",
        "# Hide axes border\n",
        "plt.box(on=None)\n",
        "# Add title\n",
        "plt.title('Limites Laterais: Aproximando pela esquerda(-)')\n",
        "# Without plt.draw() here, the title will center on the axes and not the figure.\n",
        "plt.draw()\n",
        "\n",
        "\n",
        "#Tabela 2\n",
        "coluna = ['4', '3.4', '3.1', '3.01', '3.001']\n",
        "linha = ['f(x)']\n",
        "dados = [[f'{lim6:.3f}',f'{lim7:.3f}',f'{lim8:.3f}',f'{lim9:.3f}',f'{lim10:.3f}']]\n",
        "plt.figure(figsize = (14,3),linewidth=2,\n",
        "           tight_layout={'pad':1})\n",
        "table = plt.table(cellText=dados,\n",
        "                  cellLoc='center',\n",
        "                  rowLabels=linha,\n",
        "                  rowLoc='center',\n",
        "                  colLabels=coluna,\n",
        "                  loc='center')\n",
        "table.scale(1, 2)\n",
        "table.set_fontsize(12)\n",
        "# Hide axes\n",
        "ax = plt.gca()\n",
        "ax.get_xaxis().set_visible(False)\n",
        "ax.get_yaxis().set_visible(False)\n",
        "# Hide axes border\n",
        "plt.box(on=None)\n",
        "# Add title\n",
        "plt.title('Limites Laterais: Aproximando pela direita(+)')\n",
        "# Without plt.draw() here, the title will center on the axes and not the figure.\n",
        "plt.draw()\n",
        "\n"
      ],
      "metadata": {
        "id": "kTbaQG53LzyY",
        "colab": {
          "base_uri": "https://localhost:8080/",
          "height": 559
        },
        "outputId": "1b3603c2-90f3-493f-c910-8515d1f7ceec"
      },
      "execution_count": null,
      "outputs": [
        {
          "output_type": "display_data",
          "data": {
            "text/plain": [
              "<IPython.core.display.Math object>"
            ],
            "text/latex": "$\\displaystyle f(3 + h) = ((h + 3)**2 - 4)/(h + 1)$"
          },
          "metadata": {}
        },
        {
          "output_type": "display_data",
          "data": {
            "text/plain": [
              "<IPython.core.display.Math object>"
            ],
            "text/latex": "$\\displaystyle Expandido: f(3 + h) = h**2/(h + 1) + 6*h/(h + 1) + 5/(h + 1)$"
          },
          "metadata": {}
        },
        {
          "output_type": "display_data",
          "data": {
            "text/plain": [
              "<IPython.core.display.Math object>"
            ],
            "text/latex": "$\\displaystyle Simplificado: f(3 + h) = h + 5$"
          },
          "metadata": {}
        },
        {
          "output_type": "display_data",
          "data": {
            "text/plain": [
              "<IPython.core.display.Math object>"
            ],
            "text/latex": "$\\displaystyle \\lim_{h \\to 0} f(3 + h) = 5$"
          },
          "metadata": {}
        },
        {
          "output_type": "display_data",
          "data": {
            "text/plain": [
              "<IPython.core.display.Math object>"
            ],
            "text/latex": "$\\displaystyle \\lim_{x \\to 3} f(x) = 5$"
          },
          "metadata": {}
        },
        {
          "output_type": "display_data",
          "data": {
            "text/plain": [
              "<Figure size 1008x216 with 1 Axes>"
            ],
            "image/png": "[encoded data removed]"
          },
          "metadata": {
            "needs_background": "light"
          }
        },
        {
          "output_type": "display_data",
          "data": {
            "text/plain": [
              "<Figure size 1008x216 with 1 Axes>"
            ],
            "image/png": "[encoded data removed]"
          },
          "metadata": {
            "needs_background": "light"
          }
        }
      ]
    },
    {
      "cell_type": "code",
      "source": [
        "import matplotlib.pyplot as plt\n",
        "import numpy as np\n",
        "\n",
        "#Gráfico\n",
        "\n",
        "def f(x):\n",
        "    return (x**2 - 4) / (x - 2)\n",
        "\n",
        "def plot_f(dx=0.1):\n",
        "    x = np.arange(0, 5 + dx, dx)\n",
        "    y = f(x)\n",
        "    plt.plot(x, y, label='$f(x)$')\n",
        "    plt.xlabel('x')\n",
        "    plt.ylabel('y')\n",
        "    plt.title('Gráfico da Função')\n",
        "    plt.grid()\n",
        "\n",
        "    plt.plot(2,4, color = 'red', marker = 'o')\n",
        "    plt.plot(2.6,4.6, color = 'red', marker = 'o')\n",
        "    plt.plot(2.9,4.9, color = 'red', marker = 'o')\n",
        "    plt.plot(2.99,4.99, color = 'red', marker = 'o')\n",
        "    plt.plot(2.999,4.999, color = 'red', marker = 'o')\n",
        "    plt.plot(4,6, color = 'red', marker = 'o')\n",
        "    plt.plot(3.4,5.4, color = 'red', marker = 'o')\n",
        "    plt.plot(3.1,5.1, color = 'red', marker = 'o')\n",
        "    plt.plot(3.01,5.01, color = 'red', marker = 'o')\n",
        "    plt.plot(3.001,5.001, color = 'red', marker = 'o')\n",
        "\n",
        "    plt.plot(3,5, color = 'purple', marker = 'o')\n",
        "    plt.gca().annotate('(3, 5)', xy=(3 + 0.1, 5 - 0.2), xycoords='data', fontsize=10)\n",
        "\n",
        "plot_f()\n",
        "plt.show()"
      ],
      "metadata": {
        "colab": {
          "base_uri": "https://localhost:8080/",
          "height": 332
        },
        "id": "mDlD-OCHKh5D",
        "outputId": "a67aa858-76e2-4fa7-970f-d50d153bbe71"
      },
      "execution_count": null,
      "outputs": [
        {
          "output_type": "stream",
          "name": "stderr",
          "text": [
            "<ipython-input-42-656d70109c1a>:7: RuntimeWarning: invalid value encountered in true_divide\n",
            "  return (x**2 - 4) / (x - 2)\n"
          ]
        },
        {
          "output_type": "display_data",
          "data": {
            "text/plain": [
              "<Figure size 432x288 with 1 Axes>"
            ],
            "image/png": "[encoded data removed]"
          },
          "metadata": {
            "needs_background": "light"
          }
        }
      ]
    },
    {
      "cell_type": "markdown",
      "source": [
        "2) Você deve apresentar o passo a passo das operações algébricas necessárias para\n",
        "encontrar os limites em látex, em células de texto além dos resultados dos limites.\n",
        "\n",
        "Se você chegar a 0/0 tente fatorar o númerador e o denominador\n",
        "para ver se consegue eliminar o denominador."
      ],
      "metadata": {
        "id": "NApYOcqOKsXT"
      }
    },
    {
      "cell_type": "markdown",
      "source": [
        "A) $$\\lim_{x \\to -5} = \\frac{x^2 - 25}{x + 5}$$\n",
        "\n",
        "$$\\lim_{x \\to -5} = \\frac{(x+5)(x-5)}{x + 5}$$\n",
        "\n",
        "$$\\lim_{x \\to -5} = {(x-5) = -10}$$\n"
      ],
      "metadata": {
        "id": "fU0QHuXXK2rZ"
      }
    },
    {
      "cell_type": "markdown",
      "source": [
        "B) $$\\lim_{x \\to 1} = (\\frac{x^2-3x+2}{x - 1})$$\n",
        "\n",
        "$$\\lim_{x \\to 1} = \\frac{(x-2)(x-1)}{x -1}$$\n",
        "\n",
        "$$\\lim_{x \\to 1} = {(x-2) = -1}$$"
      ],
      "metadata": {
        "id": "nR2vNV9YK7kx"
      }
    },
    {
      "cell_type": "markdown",
      "source": [
        "C) $$\\lim_{x \\to 2} = (\\frac{3x^2-2x-5}{x - 1})$$\n",
        "\n",
        "$$\\lim_{x \\to 2} = \\frac{3*2^2-2*2-5}{2 - 1}$$\n",
        "\n",
        "$$\\lim_{x \\to 2} = {3}$$"
      ],
      "metadata": {
        "id": "wSJHwhTtNZLX"
      }
    },
    {
      "cell_type": "markdown",
      "source": [
        "3) Você deve apresentar o passo a passo das operações algébricas necessárias para\n",
        "encontrar os limites em látex, em células de texto além dos resultados dos limites.\n",
        "\n",
        "Considerando as funções a seguir, calcule os limites algebricamente,\n",
        "escrevendo o passo a passo, trace seus gráficos e verifique seus\n",
        "resultados usando o Sympy e qualquer outra calculadora de limites\n",
        "disponível na internet (Wolfram Alpha)."
      ],
      "metadata": {
        "id": "nGFAQsH0O7Bs"
      }
    },
    {
      "cell_type": "markdown",
      "source": [
        "A) $$\\lim_{x \\to 9} = {\\sqrt{x-8}+3}$$\n",
        "\n",
        "$$\\lim_{x \\to 9} = {\\sqrt{9-8}+3} = 4$$\n"
      ],
      "metadata": {
        "id": "w_RyeOlvP0xD"
      }
    },
    {
      "cell_type": "code",
      "source": [
        "import numpy as np\n",
        "import matplotlib.pyplot as plt\n",
        "\n",
        "\n",
        "def f(x):\n",
        "    return np.sqrt(x - 8) + 3\n",
        "def plot_f(dx=0.1):\n",
        "    x = np.arange(1, 10 + dx, dx)\n",
        "    y = f(x)\n",
        "    plt.plot(x, y, label='$f(x)$')\n",
        "    plt.legend()\n",
        "    plt.xlabel('x')\n",
        "    plt.ylabel('y')\n",
        "    plt.title('Gráfico da Função')\n",
        "    plt.grid()\n",
        "\n",
        "plot_f()\n",
        "plt.show()"
      ],
      "metadata": {
        "colab": {
          "base_uri": "https://localhost:8080/",
          "height": 332
        },
        "id": "lODbYZWOQOaX",
        "outputId": "8c321d8c-7f1f-45e9-dc21-6401f08b201b"
      },
      "execution_count": null,
      "outputs": [
        {
          "output_type": "stream",
          "name": "stderr",
          "text": [
            "<ipython-input-43-0edb9de021b7>:6: RuntimeWarning: invalid value encountered in sqrt\n",
            "  return np.sqrt(x - 8) + 3\n"
          ]
        },
        {
          "output_type": "display_data",
          "data": {
            "text/plain": [
              "<Figure size 432x288 with 1 Axes>"
            ],
            "image/png": "[encoded data removed]"
          },
          "metadata": {
            "needs_background": "light"
          }
        }
      ]
    },
    {
      "cell_type": "markdown",
      "source": [
        "B) $$\\lim_{x \\to \\frac{3}{2}} = \\frac{2x^2 -5x +3}{2x^2-3x}$$\n",
        "\n",
        "$$\\lim_{x \\to \\frac{3}{2}} = \\frac{(2x -3)(x-1)}{x(2x-3)}$$\n",
        "\n",
        "\n",
        "$$\\lim_{x \\to \\frac{3}{2}} = \\frac{x-1}{x}$$\n",
        "\n",
        "$$\\lim_{x \\to \\frac{3}{2}} = \\frac{\\frac{3}{2}-1}{\\frac{3}{2}} = \\frac{1}{3}$$\n",
        "\n",
        "\n",
        "\n"
      ],
      "metadata": {
        "id": "jqrpYbz4W8OJ"
      }
    },
    {
      "cell_type": "code",
      "source": [
        "import numpy as np\n",
        "import matplotlib.pyplot as plt\n",
        "\n",
        "def f(x):\n",
        "    return (x-1) / (x)\n",
        "def plot_f(dx=0.1):\n",
        "    x = np.arange(1, 2 + dx, dx)\n",
        "    y = f(x)\n",
        "    plt.plot(x, y, label='$f(x)$')\n",
        "    plt.legend()\n",
        "    plt.xlabel('x')\n",
        "    plt.ylabel('y')\n",
        "    plt.title('Gráfico da Função')\n",
        "    plt.grid()\n",
        "\n",
        "plot_f()\n",
        "plt.show()"
      ],
      "metadata": {
        "colab": {
          "base_uri": "https://localhost:8080/",
          "height": 295
        },
        "id": "PQN8L8vZiXbE",
        "outputId": "7b3102d4-1ee8-4019-a47e-ff46e3976d7b"
      },
      "execution_count": null,
      "outputs": [
        {
          "output_type": "display_data",
          "data": {
            "text/plain": [
              "<Figure size 432x288 with 1 Axes>"
            ],
            "image/png": "[encoded data removed]"
          },
          "metadata": {
            "needs_background": "light"
          }
        }
      ]
    },
    {
      "cell_type": "markdown",
      "source": [
        "C) $$\\lim_{x \\to 9} = \\frac{\\sqrt{x} - 3}{x - 9}$$\n",
        "\n",
        "$$\\lim_{x \\to 9} = \\frac{(\\sqrt{x} - 3)(\\sqrt{x} + 3)}{(x - 9)(\\sqrt{x} + 3)}$$\n",
        "\n",
        "$$\\lim_{x \\to 9} = \\frac{1}{\\sqrt{x} + 3}$$\n",
        "\n",
        "$$\\lim_{x \\to 9} = \\frac{1}{\\sqrt{9} + 3} = \\frac{1}{6}$$\n",
        "\n"
      ],
      "metadata": {
        "id": "5p-6OpR7Sn3G"
      }
    },
    {
      "cell_type": "code",
      "source": [
        "import numpy as np\n",
        "import matplotlib.pyplot as plt\n",
        "\n",
        "def f(x):\n",
        "    return 1/(np.sqrt(x) + 3)\n",
        "def plot_f(dx=0.1):\n",
        "    x = np.arange(0, 9 + dx, dx)\n",
        "    y = f(x)\n",
        "    plt.plot(x, y, label='$f(x)$')\n",
        "    plt.legend()\n",
        "    plt.xlabel('x')\n",
        "    plt.ylabel('y')\n",
        "    plt.title('Gráfico da Função')\n",
        "    plt.grid()\n",
        "\n",
        "plot_f()\n",
        "plt.show()"
      ],
      "metadata": {
        "colab": {
          "base_uri": "https://localhost:8080/",
          "height": 295
        },
        "id": "q4pWkCZiUA5Q",
        "outputId": "d697b5ec-44d8-4a93-ebee-95e39a36a39d"
      },
      "execution_count": null,
      "outputs": [
        {
          "output_type": "display_data",
          "data": {
            "text/plain": [
              "<Figure size 432x288 with 1 Axes>"
            ],
            "image/png": "[encoded data removed]"
          },
          "metadata": {
            "needs_background": "light"
          }
        }
      ]
    },
    {
      "cell_type": "markdown",
      "source": [
        "D) $$\\lim_{x \\to -3} = {x^2 + 3, x \\geq - 3}$$\n",
        "\n",
        "$$\\lim_{x \\to -3} = {9 + 3, x \\geq - 3} = 12$$\n",
        "\n",
        "$$\\lim_{x \\to -3} = {-2x + 6, x < - 3}$$\n",
        "$$\\lim_{x \\to -3} = {-2(-3) + 6, x < - 3}$$\n",
        "$$\\lim_{x \\to -3} = {6 + 6, x < - 3} = 12$$\n",
        "\n",
        "\n",
        "\n",
        "\n"
      ],
      "metadata": {
        "id": "B91_hJ6oUpg5"
      }
    },
    {
      "cell_type": "code",
      "source": [
        "import numpy as np\n",
        "import matplotlib.pyplot as plt\n",
        "\n",
        "def f(x):\n",
        "    return x**2 + 3\n",
        "def g(x):\n",
        "    return -2*x + 6\n",
        "\n",
        "def plot_f(dx=0.1):\n",
        "    x = np.arange(-3, 0, dx)\n",
        "    y = f(x)\n",
        "    plt.plot(x, y, label='$x≥−3$')\n",
        "    plt.legend()\n",
        "    plt.xlabel('x')\n",
        "    plt.ylabel('y')\n",
        "    plt.title('Gráfico da Função')\n",
        "    plt.grid()\n",
        "\n",
        "def plot_g(dx=0.1):\n",
        "    x = np.arange(-5, -2.9, dx)\n",
        "    y = g(x)\n",
        "    plt.plot(x, y, label='$x<−3$')\n",
        "\n",
        "plot_g()\n",
        "plot_f()\n",
        "plt.show()"
      ],
      "metadata": {
        "colab": {
          "base_uri": "https://localhost:8080/",
          "height": 295
        },
        "id": "nGmMzyZcu9ZU",
        "outputId": "1192fc10-6344-404c-9da6-ebd8cdab204a"
      },
      "execution_count": null,
      "outputs": [
        {
          "output_type": "display_data",
          "data": {
            "text/plain": [
              "<Figure size 432x288 with 1 Axes>"
            ],
            "image/png": "[encoded data removed]"
          },
          "metadata": {
            "needs_background": "light"
          }
        }
      ]
    },
    {
      "cell_type": "markdown",
      "source": [
        "4) Você deve apresentar o passo a passo das operações algébricas necessárias para  encontrar os limites em látex, em células de texto além dos resultados dos limites. Além disso,  plote estas funções.\n",
        "\n",
        "**Trabalhando com infinitos**\n",
        "\n",
        "Resolva os seguintes limites algebricamente, depois verifique com o Sympy e trace seus gráficos.\n",
        "\n",
        "A)\n",
        "\n",
        "$$\\lim_{x \\to  +-oo} = \\frac{{-3 + x} }{7 - x}$$\n",
        "\n",
        "\n",
        "$$\\lim_{x \\to  +10} = \\frac{{-3 + x} }{7 - x} = \\frac{{3 - 10} }{7 -10} = \\frac{{-7} }{3} $$\n",
        "\n",
        "$$\\lim_{x \\to  +100} = \\frac{{-3 + x} }{7 - x} = \\frac{{3 - 100} }{7 -100} = \\frac{{-97} }{93} $$\n",
        "\n",
        "$$\\lim_{x \\to  +1000} = \\frac{{-3 + x} }{7 - x} = \\frac{{3 - 1000} }{7 -1000} = \\frac{{-997} }{993} $$\n",
        "\n",
        "\n",
        "\n",
        "\n",
        "$$\\lim_{x \\to  -10} = \\frac{{-3 + x} }{7 - x} = \\frac{{3 + 10} }{7 + 10} = \\frac{{7} }{17} $$\n",
        "\n",
        "$$\\lim_{x \\to  -100} = \\frac{{-3 + x} }{7 - x} = \\frac{{3 + 100} }{7 + 100} = \\frac{{97} }{107} $$\n",
        "\n",
        "$$\\lim_{x \\to  -1000} = \\frac{{-3 + x} }{7 - x} = \\frac{{3 + 1000} }{7 + 1000} = \\frac{{997} }{1007} $$\n",
        "\n",
        "\n",
        "\n",
        "\n",
        "\n",
        "\n",
        "\n",
        "\n",
        "\n",
        "\n"
      ],
      "metadata": {
        "id": "hKVBf34ZX0hG"
      }
    },
    {
      "cell_type": "code",
      "source": [
        "from sympy import symbols, Eq, expand, simplify, limit, init_printing\n",
        "from IPython.display import display, Math\n",
        "from sympy import oo\n",
        "\n",
        "init_printing()\n",
        "# Definindo as variáveis simbólicas\n",
        "x, h = symbols('x h')\n",
        "\n",
        "# Definindo a função f(x)\n",
        "f_x = (x - 3) / (7 - x)\n",
        "\n",
        "# Escolha um ponto próximo a x = oo, digamos x = oo + h\n",
        "x_near_oo = oo + h\n",
        "\n",
        "# Calcule f(oo + h)\n",
        "f_x_near_oo = f_x.subs(x, x_near_oo)\n",
        "\n",
        "# Expanda a expressão\n",
        "expanded_f_x_near_oo = expand(f_x_near_oo)\n",
        "\n",
        "# Simplifique a expressão\n",
        "simplified_f_x_near_oo = simplify(expanded_f_x_near_oo)\n",
        "\n",
        "# Encontre o limite quando h tende a 0\n",
        "lim_h_0 = limit(simplified_f_x_near_oo, h, 0)\n",
        "\n",
        "# Encontre o limite quando x tende a 3 diretamente usando a função limit do SymPy\n",
        "lim_x_oo = limit(f_x, x, oo)\n",
        "\n",
        "# Mostrar resultados intermediários e os limites com qualidade matemática\n",
        "display(Math(\"f(oo + y) = \" + f\"{f_x_near_oo}\"))\n",
        "display(Math(\"Expandido: f(oo + h) = \" + f\"{expanded_f_x_near_oo}\"))\n",
        "display(Math(\"Simplificado: f(oo + h) = \" + f\"{simplified_f_x_near_oo}\"))\n",
        "display(Math(r\"\\lim_{h \\to 0} f(oo + h) = \" + f\"{lim_h_0}\"))\n",
        "display(Math(r\"\\lim_{x \\to oo} f(x) = \" + f\"{lim_x_oo}\"))\n",
        "\n",
        "\n",
        "\n"
      ],
      "metadata": {
        "colab": {
          "base_uri": "https://localhost:8080/",
          "height": 137
        },
        "id": "3abowmjxXskd",
        "outputId": "2e3e9cf7-5b8e-434b-d192-5ca7cb685427"
      },
      "execution_count": null,
      "outputs": [
        {
          "output_type": "display_data",
          "data": {
            "text/plain": [
              "<IPython.core.display.Math object>"
            ],
            "text/latex": "$\\displaystyle f(oo + y) = (h + oo)/(-h - oo)$"
          },
          "metadata": {}
        },
        {
          "output_type": "display_data",
          "data": {
            "text/plain": [
              "<IPython.core.display.Math object>"
            ],
            "text/latex": "$\\displaystyle Expandido: f(oo + h) = h/(-h - oo) + oo/(-h - oo)$"
          },
          "metadata": {}
        },
        {
          "output_type": "display_data",
          "data": {
            "text/plain": [
              "<IPython.core.display.Math object>"
            ],
            "text/latex": "$\\displaystyle Simplificado: f(oo + h) = -1$"
          },
          "metadata": {}
        },
        {
          "output_type": "display_data",
          "data": {
            "text/plain": [
              "<IPython.core.display.Math object>"
            ],
            "text/latex": "$\\displaystyle \\lim_{h \\to 0} f(oo + h) = -1$"
          },
          "metadata": {}
        },
        {
          "output_type": "display_data",
          "data": {
            "text/plain": [
              "<IPython.core.display.Math object>"
            ],
            "text/latex": "$\\displaystyle \\lim_{x \\to oo} f(x) = -1$"
          },
          "metadata": {}
        }
      ]
    },
    {
      "cell_type": "code",
      "source": [
        "import numpy as np\n",
        "import matplotlib.pyplot as plt\n",
        "\n",
        "def f(x):\n",
        "    return (x - 3) / (7 - x)\n",
        "\n",
        "def plot_f(dx=0.1):\n",
        "    x = np.arange(-100, 5, dx)\n",
        "    y = f(x)\n",
        "    plt.plot(x, y)\n",
        "\n",
        "    x= np.arange(8,100,dx)\n",
        "    y=f(x)\n",
        "    plt.plot(x,y)\n",
        "\n",
        "    plt.legend()\n",
        "    plt.xlabel('x')\n",
        "    plt.ylabel('y')\n",
        "    plt.title('Gráfico da Função')\n",
        "    plt.grid()\n",
        "\n",
        "\n",
        "plot_f()\n",
        "\n",
        "plt.show()\n",
        "\n",
        "\n"
      ],
      "metadata": {
        "id": "R-XPU3f2YHKV",
        "colab": {
          "base_uri": "https://localhost:8080/",
          "height": 313
        },
        "outputId": "4211e2ad-5bff-4690-8318-56484365accd"
      },
      "execution_count": null,
      "outputs": [
        {
          "output_type": "stream",
          "name": "stderr",
          "text": [
            "WARNING:matplotlib.legend:No artists with labels found to put in legend.  Note that artists whose label start with an underscore are ignored when legend() is called with no argument.\n"
          ]
        },
        {
          "output_type": "display_data",
          "data": {
            "text/plain": [
              "<Figure size 432x288 with 1 Axes>"
            ],
            "image/png": "[encoded data removed]"
          },
          "metadata": {
            "needs_background": "light"
          }
        }
      ]
    },
    {
      "cell_type": "markdown",
      "source": [
        "B) $$\\ f(x) = \\frac{1}{x^2 + 5x}$$\n",
        "\n",
        "$$\\lim_{x \\to  +-oo} = \\frac{1}{5x + x^2}$$\n",
        "\n",
        "$$\\lim_{x \\to  +10} = \\frac{1}{10 * 5 + 10^2} = \\frac{1}{150} $$\n",
        "\n",
        "$$\\lim_{x \\to  +100} = \\frac{1}{100 * 5 + 100^2} = \\frac{1}{10500} $$\n",
        "\n",
        "$$\\lim_{x \\to  +1000} = \\frac{1}{1000 * 5 + 1000^2} = \\frac{1}{10050000} $$\n",
        "\n",
        "$$\\lim_{x \\to  -10} = \\frac{1}{-10 * 5 - 10^2} = \\frac{1}{50} $$\n",
        "\n",
        "$$\\lim_{x \\to  -100} = \\frac{1}{-100 * 5 - 100^2} = \\frac{1}{9500} $$\n",
        "\n",
        "$$\\lim_{x \\to  -1000} = \\frac{1}{-1000 * 5 - 1000^2} = \\frac{1}{995000} $$\n",
        "\n"
      ],
      "metadata": {
        "id": "Hwy91R8NZTCu"
      }
    },
    {
      "cell_type": "code",
      "source": [
        "init_printing()\n",
        "# Definindo as variáveis simbólicas\n",
        "x, h = symbols('x h')\n",
        "\n",
        "# Definindo a função f(x)\n",
        "f_x = 1 / x**2 + 5*x\n",
        "\n",
        "# Escolha um ponto próximo a x = oo, digamos x = oo + h\n",
        "x_near_3 = oo + h\n",
        "\n",
        "# Calcule f(3 + h)\n",
        "f_x_near_3 = f_x.subs(x, x_near_3)\n",
        "\n",
        "# Expanda a expressão\n",
        "expanded_f_x_near_3 = expand(f_x_near_3)\n",
        "\n",
        "# Simplifique a expressão\n",
        "simplified_f_x_near_3 = simplify(expanded_f_x_near_3)\n",
        "\n",
        "# Encontre o limite quando h tende a 0\n",
        "lim_h_0 = limit(simplified_f_x_near_3, h, 0)\n",
        "\n",
        "# Encontre o limite quando x tende a 3 diretamente usando a função limit do SymPy\n",
        "lim_x_3 = limit(f_x, x, oo)\n",
        "\n",
        "# Mostrar resultados intermediários e os limites com qualidade matemática\n",
        "display(Math(\"f(3 + h) = \" + f\"{f_x_near_3}\"))\n",
        "display(Math(\"Expandido: f(3 + h) = \" + f\"{expanded_f_x_near_3}\"))\n",
        "display(Math(\"Simplificado: f(3 + h) = \" + f\"{simplified_f_x_near_3}\"))\n",
        "display(Math(r\"\\lim_{h \\to 0} f(3 + h) = \" + f\"{lim_h_0}\"))\n",
        "display(Math(r\"\\lim_{x \\to oo} f(x) = \" + f\"{lim_x_3}\"))\n",
        "\n",
        "\n",
        "\n"
      ],
      "metadata": {
        "colab": {
          "base_uri": "https://localhost:8080/",
          "height": 136
        },
        "id": "H09lpFRqZZwr",
        "outputId": "f842ed26-e959-4ec9-bf91-6bd92a59013d"
      },
      "execution_count": null,
      "outputs": [
        {
          "output_type": "display_data",
          "data": {
            "text/plain": [
              "<IPython.core.display.Math object>"
            ],
            "text/latex": "$\\displaystyle f(3 + h) = 5*h + oo + (h + oo)**(-2)$"
          },
          "metadata": {}
        },
        {
          "output_type": "display_data",
          "data": {
            "text/plain": [
              "<IPython.core.display.Math object>"
            ],
            "text/latex": "$\\displaystyle Expandido: f(3 + h) = 5*h + oo + 1/(h**2 + oo*h + oo)$"
          },
          "metadata": {}
        },
        {
          "output_type": "display_data",
          "data": {
            "text/plain": [
              "<IPython.core.display.Math object>"
            ],
            "text/latex": "$\\displaystyle Simplificado: f(3 + h) = ((5*h + oo)*(h**2 + oo*h + oo) + 1)/(h**2 + oo*h + oo)$"
          },
          "metadata": {}
        },
        {
          "output_type": "display_data",
          "data": {
            "text/plain": [
              "<IPython.core.display.Math object>"
            ],
            "text/latex": "$\\displaystyle \\lim_{h \\to 0} f(3 + h) = Limit(((5*h + oo)*(h**2 + oo*h + oo) + 1)/(h**2 + oo*h + oo), h, 0)$"
          },
          "metadata": {}
        },
        {
          "output_type": "display_data",
          "data": {
            "text/plain": [
              "<IPython.core.display.Math object>"
            ],
            "text/latex": "$\\displaystyle \\lim_{x \\to oo} f(x) = oo$"
          },
          "metadata": {}
        }
      ]
    },
    {
      "cell_type": "code",
      "source": [
        "def f(x):\n",
        "    return 1 / (x**2 + 5*x)\n",
        "\n",
        "def plot_f(dx=0.1):\n",
        "    x = np.arange(1, 80, dx)\n",
        "    y = f(x)\n",
        "    plt.plot(x, y)\n",
        "\n",
        "    x= np.arange(-4,-1,dx)\n",
        "    y=f(x)\n",
        "    plt.plot(x,y)\n",
        "\n",
        "    x= np.arange(-80,-6,dx)\n",
        "    y=f(x)\n",
        "    plt.plot(x,y)\n",
        "\n",
        "    plt.legend()\n",
        "    plt.xlabel('x')\n",
        "    plt.ylabel('y')\n",
        "    plt.title('Gráfico da Função')\n",
        "    plt.grid()\n",
        "\n",
        "\n",
        "plot_f()\n",
        "plt.show()\n",
        "\n",
        "\n"
      ],
      "metadata": {
        "colab": {
          "base_uri": "https://localhost:8080/",
          "height": 313
        },
        "id": "_u0_LOjjZcZL",
        "outputId": "7b7f38cd-ec7a-4b55-843e-b3ef767ac0d6"
      },
      "execution_count": null,
      "outputs": [
        {
          "output_type": "stream",
          "name": "stderr",
          "text": [
            "WARNING:matplotlib.legend:No artists with labels found to put in legend.  Note that artists whose label start with an underscore are ignored when legend() is called with no argument.\n"
          ]
        },
        {
          "output_type": "display_data",
          "data": {
            "text/plain": [
              "<Figure size 432x288 with 1 Axes>"
            ],
            "image/png": "[encoded data removed]"
          },
          "metadata": {
            "needs_background": "light"
          }
        }
      ]
    },
    {
      "cell_type": "markdown",
      "source": [
        "C) $$\\ f(x) = \\frac{x - 1}{x^2 + 5x - 6}$$\n",
        "\n",
        "$$\\lim_{x \\to  +-oo} = \\frac{-1 + x}{-6 + 5x + x^2}$$\n",
        "\n",
        "$$\\lim_{x \\to  +10} = \\frac{10 - 1}{-6 + 5 * 10 + 10^2} = \\frac{1}{16} $$\n",
        "\n",
        "$$\\lim_{x \\to  +100} = \\frac{100 - 1}{-6 + 5 * 100 + 100^2} = \\frac{1}{106} $$\n",
        "\n",
        "$$\\lim_{x \\to  +1000} = \\frac{1000 - 1}{-6 + 5 * 1000 + 1000^2} = \\frac{1}{1006} $$\n",
        "\n",
        "$$\\lim_{x \\to  -10} = \\frac{-10 - 1}{-6 + 5 * -10 - 10^2} = \\frac{11}{156} $$\n",
        "\n",
        "$$\\lim_{x \\to  -100} = \\frac{-100 - 1}{-6 + 5 * - 100 - 100^2} = \\frac{101}{10506} $$\n",
        "\n",
        "$$\\lim_{x \\to  -1000} = \\frac{- 1000 - 1}{-6 + 5 * - 1000 - 1000^2} = \\frac{1001}{1005006} $$"
      ],
      "metadata": {
        "id": "2y7areU5Zntj"
      }
    },
    {
      "cell_type": "code",
      "source": [
        "init_printing()\n",
        "# Definindo as variáveis simbólicas\n",
        "x, h = symbols('x h')\n",
        "\n",
        "# Definindo a função f(x)\n",
        "f_x = (x - 1) / (x**2 + 5*x - 6)\n",
        "\n",
        "# Escolha um ponto próximo a x = oo, digamos x = oo + h\n",
        "x_near_3 = oo + h\n",
        "\n",
        "# Calcule f(oo + h)\n",
        "f_x_near_3 = f_x.subs(x, x_near_3)\n",
        "\n",
        "# Expanda a expressão\n",
        "expanded_f_x_near_3 = expand(f_x_near_3)\n",
        "\n",
        "# Simplifique a expressão\n",
        "simplified_f_x_near_3 = simplify(expanded_f_x_near_3)\n",
        "\n",
        "# Encontre o limite quando h tende a 0\n",
        "lim_h_0 = limit(simplified_f_x_near_3, y, 0)\n",
        "\n",
        "# Encontre o limite quando x tende a 3 diretamente usando a função limit do SymPy\n",
        "lim_x_3 = limit(f_x, x, oo)\n",
        "\n",
        "# Mostrar resultados intermediários e os limites com qualidade matemática\n",
        "display(Math(\"f(oo + h) = \" + f\"{f_x_near_3}\"))\n",
        "display(Math(\"Expandido: f(oo + h) = \" + f\"{expanded_f_x_near_3}\"))\n",
        "display(Math(\"Simplificado: f(oo + h) = \" + f\"{simplified_f_x_near_3}\"))\n",
        "display(Math(r\"\\lim_{h \\to 0} f(oo + h) = \" + f\"{lim_h_0}\"))\n",
        "display(Math(r\"\\lim_{x \\to oo} f(x) = \" + f\"{lim_x_3}\"))\n",
        "\n",
        "\n",
        "\n"
      ],
      "metadata": {
        "colab": {
          "base_uri": "https://localhost:8080/",
          "height": 136
        },
        "id": "fCP4fx7dZqC6",
        "outputId": "6c674746-0ebb-43f2-c6a4-c4f84f549068"
      },
      "execution_count": null,
      "outputs": [
        {
          "output_type": "display_data",
          "data": {
            "text/plain": [
              "<IPython.core.display.Math object>"
            ],
            "text/latex": "$\\displaystyle f(oo + h) = (h + oo)/(5*h + (h + oo)**2 + oo)$"
          },
          "metadata": {}
        },
        {
          "output_type": "display_data",
          "data": {
            "text/plain": [
              "<IPython.core.display.Math object>"
            ],
            "text/latex": "$\\displaystyle Expandido: f(oo + h) = h/(h**2 + oo*h + oo) + oo/(h**2 + oo*h + oo)$"
          },
          "metadata": {}
        },
        {
          "output_type": "display_data",
          "data": {
            "text/plain": [
              "<IPython.core.display.Math object>"
            ],
            "text/latex": "$\\displaystyle Simplificado: f(oo + h) = (h + oo)/(h**2 + oo*h + oo)$"
          },
          "metadata": {}
        },
        {
          "output_type": "display_data",
          "data": {
            "text/plain": [
              "<IPython.core.display.Math object>"
            ],
            "text/latex": "$\\displaystyle \\lim_{h \\to 0} f(oo + h) = (h + oo)/(h**2 + oo*h + oo)$"
          },
          "metadata": {}
        },
        {
          "output_type": "display_data",
          "data": {
            "text/plain": [
              "<IPython.core.display.Math object>"
            ],
            "text/latex": "$\\displaystyle \\lim_{x \\to oo} f(x) = 0$"
          },
          "metadata": {}
        }
      ]
    },
    {
      "cell_type": "code",
      "source": [
        "def f(x):\n",
        "    return (x - 1) / (x**2 + 5*x - 6)\n",
        "\n",
        "def plot_f(dx=0.1):\n",
        "    x = np.arange(-5, 100, dx)\n",
        "    y = f(x)\n",
        "    plt.plot(x, y)\n",
        "\n",
        "    x = np.arange(-100, -6, dx)\n",
        "    y = f(x)\n",
        "    plt.plot(x, y)\n",
        "\n",
        "    plt.legend()\n",
        "    plt.xlabel('x')\n",
        "    plt.ylabel('y')\n",
        "    plt.title('Gráfico da Função')\n",
        "    plt.grid()\n",
        "\n",
        "\n",
        "plot_f()\n",
        "\n",
        "plt.show()\n",
        "\n",
        "\n"
      ],
      "metadata": {
        "colab": {
          "base_uri": "https://localhost:8080/",
          "height": 313
        },
        "id": "E4k7gN6gZsea",
        "outputId": "c70cb372-c4d1-415d-9a0f-f0dae916305d"
      },
      "execution_count": null,
      "outputs": [
        {
          "output_type": "stream",
          "name": "stderr",
          "text": [
            "WARNING:matplotlib.legend:No artists with labels found to put in legend.  Note that artists whose label start with an underscore are ignored when legend() is called with no argument.\n"
          ]
        },
        {
          "output_type": "display_data",
          "data": {
            "text/plain": [
              "<Figure size 432x288 with 1 Axes>"
            ],
            "image/png": "[encoded data removed]"
          },
          "metadata": {
            "needs_background": "light"
          }
        }
      ]
    },
    {
      "cell_type": "markdown",
      "source": [
        "D) $$\\ f(x) = \\frac{3 + x}{x^2 - 2}$$\n",
        "\n",
        "$$\\lim_{x \\to  +-oo} = \\frac{3 + x}{-2 + x^2}$$\n",
        "\n",
        "$$\\lim_{x \\to  +10} = \\frac{3 + 10}{-2 + 10^2} = \\frac{13}{98} $$\n",
        "\n",
        "$$\\lim_{x \\to  +100} = \\frac{3 + 100}{-2 + 100^2} = \\frac{103}{9998} $$\n",
        "\n",
        "$$\\lim_{x \\to  +1000} = \\frac{3 + 1000}{-2 + 1000^2} = \\frac{1003}{999998} $$\n",
        "\n",
        "$$\\lim_{x \\to  -10} = \\frac{3 - 10}{-2 - 10^2} = \\frac{7}{102} $$\n",
        "\n",
        "$$\\lim_{x \\to  -100} = \\frac{3 - 100}{-2 - 100^2} = \\frac{97}{10002} $$\n",
        "\n",
        "$$\\lim_{x \\to  -1000} = \\frac{3 - 1000}{-2 - 1000^2} = \\frac{997}{1000002} $$"
      ],
      "metadata": {
        "id": "vnjUToutZwRL"
      }
    },
    {
      "cell_type": "code",
      "source": [
        "init_printing()\n",
        "# Definindo as variáveis simbólicas\n",
        "x, h = symbols('x h')\n",
        "\n",
        "# Definindo a função f(x)\n",
        "f_x = (3 + x) / (x**2 - 2)\n",
        "\n",
        "# Escolha um ponto próximo a x = oo, digamos x = oo + h\n",
        "x_near_3 = oo + h\n",
        "\n",
        "# Calcule f(oo + h)\n",
        "f_x_near_3 = f_x.subs(x, x_near_3)\n",
        "\n",
        "# Expanda a expressão\n",
        "expanded_f_x_near_3 = expand(f_x_near_3)\n",
        "\n",
        "# Simplifique a expressão\n",
        "simplified_f_x_near_3 = simplify(expanded_f_x_near_3)\n",
        "\n",
        "# Encontre o limite quando h tende a 0\n",
        "lim_h_0 = limit(simplified_f_x_near_3, h, 0)\n",
        "\n",
        "# Encontre o limite quando x tende a 3 diretamente usando a função limit do SymPy\n",
        "lim_x_3 = limit(f_x, x, 3)\n",
        "\n",
        "# Mostrar resultados intermediários e os limites com qualidade matemática\n",
        "display(Math(\"f(oo + h) = \" + f\"{f_x_near_3}\"))\n",
        "display(Math(\"Expandido: f(oo + h) = \" + f\"{expanded_f_x_near_3}\"))\n",
        "display(Math(\"Simplificado: f(oo + h) = \" + f\"{simplified_f_x_near_3}\"))\n",
        "display(Math(r\"\\lim_{h \\to 0} f(oo + h) = \" + f\"{lim_h_0}\"))\n",
        "display(Math(r\"\\lim_{x \\to oo} f(x) = \" + f\"{lim_x_3}\"))\n",
        "\n",
        "\n",
        "\n"
      ],
      "metadata": {
        "colab": {
          "base_uri": "https://localhost:8080/",
          "height": 136
        },
        "id": "auI11birZzWS",
        "outputId": "0a46c923-d1be-415c-f6a5-2dbec044835f"
      },
      "execution_count": null,
      "outputs": [
        {
          "output_type": "display_data",
          "data": {
            "text/plain": [
              "<IPython.core.display.Math object>"
            ],
            "text/latex": "$\\displaystyle f(oo + h) = (h + oo)/((h + oo)**2 - 2)$"
          },
          "metadata": {}
        },
        {
          "output_type": "display_data",
          "data": {
            "text/plain": [
              "<IPython.core.display.Math object>"
            ],
            "text/latex": "$\\displaystyle Expandido: f(oo + h) = h/(h**2 + oo*h + oo) + oo/(h**2 + oo*h + oo)$"
          },
          "metadata": {}
        },
        {
          "output_type": "display_data",
          "data": {
            "text/plain": [
              "<IPython.core.display.Math object>"
            ],
            "text/latex": "$\\displaystyle Simplificado: f(oo + h) = (h + oo)/(h**2 + oo*h + oo)$"
          },
          "metadata": {}
        },
        {
          "output_type": "display_data",
          "data": {
            "text/plain": [
              "<IPython.core.display.Math object>"
            ],
            "text/latex": "$\\displaystyle \\lim_{h \\to 0} f(oo + h) = Limit((h + oo)/(h**2 + oo*h + oo), h, 0)$"
          },
          "metadata": {}
        },
        {
          "output_type": "display_data",
          "data": {
            "text/plain": [
              "<IPython.core.display.Math object>"
            ],
            "text/latex": "$\\displaystyle \\lim_{x \\to oo} f(x) = 6/7$"
          },
          "metadata": {}
        }
      ]
    },
    {
      "cell_type": "code",
      "source": [
        "def f(x):\n",
        "    return (3 + x) / (x**2 - 2)\n",
        "\n",
        "def plot_f(dx=0.1):\n",
        "    x = np.arange(-50, -1.5, dx)\n",
        "    y = f(x)\n",
        "    plt.plot(x, y)\n",
        "\n",
        "    x = np.arange(-1.2, 1, dx)\n",
        "    y = f(x)\n",
        "    plt.plot(x, y)\n",
        "\n",
        "    x = np.arange(2, 50, dx)\n",
        "    y = f(x)\n",
        "    plt.plot(x, y)\n",
        "    plt.legend()\n",
        "    plt.xlabel('x')\n",
        "    plt.ylabel('y')\n",
        "    plt.title('Gráfico da Função')\n",
        "    plt.grid()\n",
        "\n",
        "\n",
        "plot_f()\n",
        "plt.show()\n",
        "\n",
        "\n"
      ],
      "metadata": {
        "colab": {
          "base_uri": "https://localhost:8080/",
          "height": 313
        },
        "id": "HQE5avBJZ1jy",
        "outputId": "05a205e3-40be-4586-b883-7796096ed125"
      },
      "execution_count": null,
      "outputs": [
        {
          "output_type": "stream",
          "name": "stderr",
          "text": [
            "WARNING:matplotlib.legend:No artists with labels found to put in legend.  Note that artists whose label start with an underscore are ignored when legend() is called with no argument.\n"
          ]
        },
        {
          "output_type": "display_data",
          "data": {
            "text/plain": [
              "<Figure size 432x288 with 1 Axes>"
            ],
            "image/png": "[encoded data removed]"
          },
          "metadata": {
            "needs_background": "light"
          }
        }
      ]
    }
  ]
}